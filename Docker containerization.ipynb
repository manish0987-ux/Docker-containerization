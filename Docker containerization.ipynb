{
 "cells": [
  {
   "cell_type": "markdown",
   "id": "6cf99d93-b59d-48e6-abdd-cb97bdd6537c",
   "metadata": {},
   "source": [
    "1. Install Docker and create Dockerfiles to containerize applications?"
   ]
  },
  {
   "cell_type": "code",
   "execution_count": 1,
   "id": "ad5e9277-22fc-4584-9e6c-9a05a42b55c5",
   "metadata": {},
   "outputs": [
    {
     "ename": "SyntaxError",
     "evalue": "invalid character '–' (U+2013) (841806138.py, line 4)",
     "output_type": "error",
     "traceback": [
      "\u001b[1;36m  Cell \u001b[1;32mIn[1], line 4\u001b[1;36m\u001b[0m\n\u001b[1;33m    Go to the official Docker website – https://www.docker.com\u001b[0m\n\u001b[1;37m                                      ^\u001b[0m\n\u001b[1;31mSyntaxError\u001b[0m\u001b[1;31m:\u001b[0m invalid character '–' (U+2013)\n"
     ]
    }
   ],
   "source": [
    "Step 1: Installing Docker\n",
    "Docker can be installed on Windows, macOS, or Linux. The general process is:\n",
    "\n",
    "Go to the official Docker website – https://www.docker.com\n",
    ".\n",
    "\n",
    "Download Docker Desktop for your operating system.\n",
    "\n",
    "Install and start the Docker service.\n",
    "\n",
    "Verify installation using the command:"
   ]
  },
  {
   "cell_type": "code",
   "execution_count": 3,
   "id": "08bf7938-ce9a-4df7-9a5e-a1da2e269c78",
   "metadata": {},
   "outputs": [
    {
     "ename": "SyntaxError",
     "evalue": "invalid syntax (3885969229.py, line 2)",
     "output_type": "error",
     "traceback": [
      "\u001b[1;36m  Cell \u001b[1;32mIn[3], line 2\u001b[1;36m\u001b[0m\n\u001b[1;33m    docker run hello-world\u001b[0m\n\u001b[1;37m           ^\u001b[0m\n\u001b[1;31mSyntaxError\u001b[0m\u001b[1;31m:\u001b[0m invalid syntax\n"
     ]
    }
   ],
   "source": [
    "docker --version\n",
    "docker run hello-world\n"
   ]
  },
  {
   "cell_type": "code",
   "execution_count": 4,
   "id": "f9f9a626-db65-4a0d-9855-7364c2007d23",
   "metadata": {},
   "outputs": [
    {
     "ename": "SyntaxError",
     "evalue": "invalid character '’' (U+2019) (1997567060.py, line 4)",
     "output_type": "error",
     "traceback": [
      "\u001b[1;36m  Cell \u001b[1;32mIn[4], line 4\u001b[1;36m\u001b[0m\n\u001b[1;33m    Here’s an example to containerize a simple Python application:\u001b[0m\n\u001b[1;37m        ^\u001b[0m\n\u001b[1;31mSyntaxError\u001b[0m\u001b[1;31m:\u001b[0m invalid character '’' (U+2019)\n"
     ]
    }
   ],
   "source": [
    "Step 2: Creating a Dockerfile\n",
    "A Dockerfile is a text file that contains a list of instructions to build a Docker image.\n",
    "\n",
    "Here’s an example to containerize a simple Python application:\n",
    "\n",
    "Create a file named app.py"
   ]
  },
  {
   "cell_type": "code",
   "execution_count": 5,
   "id": "9796fdfd-1afc-4e6d-b406-bf29a21d0abb",
   "metadata": {},
   "outputs": [
    {
     "name": "stdout",
     "output_type": "stream",
     "text": [
      "Hello, Docker!\n"
     ]
    }
   ],
   "source": [
    "print(\"Hello, Docker!\")\n"
   ]
  },
  {
   "cell_type": "markdown",
   "id": "d168206a-a232-446b-b125-e28f0b2e3585",
   "metadata": {},
   "source": [
    "Create a Dockerfile in the same directory:"
   ]
  },
  {
   "cell_type": "markdown",
   "id": "da0a93f5-f3ea-45eb-af42-836a05765e8e",
   "metadata": {},
   "source": [
    "# Use official Python image as base\n",
    "FROM python:3.9\n",
    "\n",
    "# Set working directory inside container\n",
    "WORKDIR /app\n",
    "\n",
    "# Copy application files into container\n",
    "COPY . /app\n",
    "\n",
    "# Define default command to run the app\n",
    "CMD [\"python\", \"app.py\"]\n"
   ]
  },
  {
   "cell_type": "markdown",
   "id": "fcae1a05-ff13-417d-8196-fdf2e039baa7",
   "metadata": {},
   "source": [
    "step 3: Building the Docker Image\n",
    "\n",
    "Use the following command to build an image:"
   ]
  },
  {
   "cell_type": "markdown",
   "id": "3e82b403-af44-4f69-8462-99e893db5d8d",
   "metadata": {},
   "source": [
    "docker build -t python-app .\n"
   ]
  },
  {
   "cell_type": "markdown",
   "id": "e38898d3-4e6a-47c9-9079-a216c43b139f",
   "metadata": {},
   "source": [
    "Step 4: Running the Container\n",
    "\n",
    "Run the image as a container:"
   ]
  },
  {
   "cell_type": "markdown",
   "id": "d877270e-d217-4247-9ce0-04dd47826bae",
   "metadata": {},
   "source": [
    "docker run python-app\n"
   ]
  },
  {
   "cell_type": "markdown",
   "id": "84492261-9833-476d-a1cd-9da03893e7c0",
   "metadata": {},
   "source": [
    "Step 5: Verifying the Container\n",
    "\n",
    "Check the running container:\n",
    "\n",
    "docker ps -a\n"
   ]
  },
  {
   "cell_type": "code",
   "execution_count": null,
   "id": "83448684-d20c-4c62-9b0a-abdf5861b1ba",
   "metadata": {},
   "outputs": [],
   "source": []
  }
 ],
 "metadata": {
  "kernelspec": {
   "display_name": "Python [conda env:base] *",
   "language": "python",
   "name": "conda-base-py"
  },
  "language_info": {
   "codemirror_mode": {
    "name": "ipython",
    "version": 3
   },
   "file_extension": ".py",
   "mimetype": "text/x-python",
   "name": "python",
   "nbconvert_exporter": "python",
   "pygments_lexer": "ipython3",
   "version": "3.12.4"
  }
 },
 "nbformat": 4,
 "nbformat_minor": 5
}
